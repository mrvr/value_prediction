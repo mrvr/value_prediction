{
 "cells": [
  {
   "cell_type": "code",
   "execution_count": 1,
   "metadata": {
    "_cell_guid": "b1076dfc-b9ad-4769-8c92-a6c4dae69d19",
    "_uuid": "8f2839f25d086af736a60e9eeb907d3b93b6e0e5"
   },
   "outputs": [
    {
     "name": "stderr",
     "output_type": "stream",
     "text": [
      "/home/raghuvardhan/anaconda3/envs/DS_common/lib/python3.6/importlib/_bootstrap.py:219: RuntimeWarning: numpy.dtype size changed, may indicate binary incompatibility. Expected 96, got 88\n",
      "  return f(*args, **kwds)\n",
      "/home/raghuvardhan/anaconda3/envs/DS_common/lib/python3.6/importlib/_bootstrap.py:219: RuntimeWarning: numpy.dtype size changed, may indicate binary incompatibility. Expected 96, got 88\n",
      "  return f(*args, **kwds)\n"
     ]
    },
    {
     "name": "stdout",
     "output_type": "stream",
     "text": [
      "['test.csv', 'train.csv']\n"
     ]
    }
   ],
   "source": [
    "import numpy as np \n",
    "import pandas as pd\n",
    "\n",
    "import os\n",
    "print(os.listdir(\"../input\"))\n",
    "\n"
   ]
  },
  {
   "cell_type": "code",
   "execution_count": 2,
   "metadata": {
    "_cell_guid": "79c7e3d0-c299-4dcb-8224-4455121ee9b0",
    "_uuid": "d629ff2d2480ee46fbb7e2d37f6b5fab8052498a"
   },
   "outputs": [
    {
     "data": {
      "text/plain": [
       "0    38000000.0\n",
       "1      600000.0\n",
       "2    10000000.0\n",
       "3     2000000.0\n",
       "4    14400000.0\n",
       "Name: target, dtype: float64"
      ]
     },
     "execution_count": 2,
     "metadata": {},
     "output_type": "execute_result"
    }
   ],
   "source": [
    "train_df = pd.read_csv('../input/train.csv')\n",
    "train_df['target'].head()"
   ]
  },
  {
   "cell_type": "code",
   "execution_count": 3,
   "metadata": {
    "_uuid": "ab77e1cb2070c03b0a67e4771fff483610aee320"
   },
   "outputs": [
    {
     "data": {
      "text/plain": [
       "Index(['ID', 'target', '48df886f9', '0deb4b6a8', '34b15f335', 'a8cb14b00',\n",
       "       '2f0771a37', '30347e683', 'd08d1fbe3', '6ee66e115',\n",
       "       ...\n",
       "       '3ecc09859', '9281abeea', '8675bec0b', '3a13ed79a', 'f677d4d13',\n",
       "       '71b203550', '137efaa80', 'fb36b89d9', '7e293fbaf', '9fc776466'],\n",
       "      dtype='object', length=4993)"
      ]
     },
     "execution_count": 3,
     "metadata": {},
     "output_type": "execute_result"
    }
   ],
   "source": [
    "train_df.columns"
   ]
  },
  {
   "cell_type": "code",
   "execution_count": 4,
   "metadata": {
    "_uuid": "f14e26de364dc801ccb463499f0fc1c7ab7a4d18"
   },
   "outputs": [
    {
     "data": {
      "text/plain": [
       "(4459, 4993)"
      ]
     },
     "execution_count": 4,
     "metadata": {},
     "output_type": "execute_result"
    }
   ],
   "source": [
    "train_df.shape"
   ]
  },
  {
   "cell_type": "code",
   "execution_count": 5,
   "metadata": {
    "_uuid": "1b5c2fe19358d246fca9ac9b2f9354ea0fd27d3c"
   },
   "outputs": [
    {
     "data": {
      "text/plain": [
       "(4459, 4993)"
      ]
     },
     "execution_count": 5,
     "metadata": {},
     "output_type": "execute_result"
    }
   ],
   "source": [
    "#remove rows with missing values\n",
    "train_df = train_df.dropna(axis=0)\n",
    "train_df.shape"
   ]
  },
  {
   "cell_type": "code",
   "execution_count": 6,
   "metadata": {
    "_uuid": "6583b9083842cc680406cc4dc01251151a82e25c"
   },
   "outputs": [
    {
     "data": {
      "text/plain": [
       "(4459, 4993)"
      ]
     },
     "execution_count": 6,
     "metadata": {},
     "output_type": "execute_result"
    }
   ],
   "source": [
    "train_df.shape"
   ]
  },
  {
   "cell_type": "code",
   "execution_count": 7,
   "metadata": {
    "_uuid": "b787a601af53f8b10e99ef6011bfc4e4adfd7ec8"
   },
   "outputs": [],
   "source": [
    "x = train_df.drop(['target','ID'],axis=1)\n",
    "y = train_df['target']"
   ]
  },
  {
   "cell_type": "code",
   "execution_count": 8,
   "metadata": {},
   "outputs": [],
   "source": [
    "x['_mean'] = np.log1p(x.replace(0, np.nan).mean(axis=1))\n",
    "x['log_median'] = np.log1p(x.replace(0, np.nan).median(axis=1))\n",
    "x['_sum'] = np.log1p(x.sum(axis=1))\n",
    "x['_std'] = x.std(axis=1)\n",
    "x['_kur'] = x.kurtosis(axis=1)"
   ]
  },
  {
   "cell_type": "code",
   "execution_count": 9,
   "metadata": {
    "_uuid": "e28f485b2c342421c6a08cbf44fa14fbdd3ace0c"
   },
   "outputs": [
    {
     "data": {
      "text/plain": [
       "Index(['48df886f9', '0deb4b6a8', '34b15f335', 'a8cb14b00', '2f0771a37',\n",
       "       '30347e683', 'd08d1fbe3', '6ee66e115', '20aa07010', 'dc5a8f1d8',\n",
       "       ...\n",
       "       '71b203550', '137efaa80', 'fb36b89d9', '7e293fbaf', '9fc776466',\n",
       "       '_mean', 'log_median', '_sum', '_std', '_kur'],\n",
       "      dtype='object', length=4996)"
      ]
     },
     "execution_count": 9,
     "metadata": {},
     "output_type": "execute_result"
    }
   ],
   "source": [
    "x.columns"
   ]
  },
  {
   "cell_type": "code",
   "execution_count": 10,
   "metadata": {
    "_uuid": "b9097b160b21ad16e0626379a617b293ea67309a"
   },
   "outputs": [],
   "source": [
    "from sklearn.preprocessing import RobustScaler\n",
    "rscaler = RobustScaler()\n",
    "feature_normal = rscaler.fit_transform(x)"
   ]
  },
  {
   "cell_type": "code",
   "execution_count": 11,
   "metadata": {
    "_uuid": "9d0b94e0783ffd173562ea362cee3889dd861c8e"
   },
   "outputs": [
    {
     "name": "stdout",
     "output_type": "stream",
     "text": [
      "(4459, 4996)\n",
      "<class 'numpy.ndarray'>\n"
     ]
    }
   ],
   "source": [
    "print(feature_normal.shape)\n",
    "print(type(feature_normal))"
   ]
  },
  {
   "cell_type": "code",
   "execution_count": 12,
   "metadata": {
    "_uuid": "1c979bd3c4509738ea95bf38a0998880f7a4c81c"
   },
   "outputs": [],
   "source": [
    "feature_normal = pd.DataFrame(data=feature_normal,columns=x.columns)"
   ]
  },
  {
   "cell_type": "code",
   "execution_count": 13,
   "metadata": {
    "_uuid": "06dc2e4d483aa17728da1b965b8dfdd58664678b"
   },
   "outputs": [],
   "source": [
    "from sklearn.model_selection import train_test_split\n",
    "x_train, x_test, y_train, y_test = train_test_split(feature_normal, y, test_size=0.3, random_state=42)"
   ]
  },
  {
   "cell_type": "code",
   "execution_count": 14,
   "metadata": {
    "_uuid": "4c9d4aeb8f733615977aef6decf2a2509e556c95"
   },
   "outputs": [
    {
     "name": "stdout",
     "output_type": "stream",
     "text": [
      "(3121, 4996)\n",
      "(3121,)\n"
     ]
    }
   ],
   "source": [
    "print(x_train.shape)\n",
    "print(y_train.shape)"
   ]
  },
  {
   "cell_type": "code",
   "execution_count": 15,
   "metadata": {
    "_uuid": "1e1635e5bafb7b693807512de5fd87ce6da8030f"
   },
   "outputs": [
    {
     "name": "stdout",
     "output_type": "stream",
     "text": [
      "(1338, 4996)\n",
      "(1338,)\n"
     ]
    }
   ],
   "source": [
    "print(x_test.shape)\n",
    "print(y_test.shape)"
   ]
  },
  {
   "cell_type": "code",
   "execution_count": 16,
   "metadata": {
    "_uuid": "265da20b24dafa503fb92eee9f5dda55a7db1ae9"
   },
   "outputs": [
    {
     "name": "stderr",
     "output_type": "stream",
     "text": [
      "/home/raghuvardhan/.local/lib/python3.6/site-packages/sklearn/ensemble/weight_boosting.py:29: DeprecationWarning: numpy.core.umath_tests is an internal NumPy module and should not be imported. It will be removed in a future NumPy release.\n",
      "  from numpy.core.umath_tests import inner1d\n"
     ]
    },
    {
     "data": {
      "text/plain": [
       "GradientBoostingRegressor(alpha=0.9, criterion='friedman_mse', init=None,\n",
       "             learning_rate=0.01, loss='lad', max_depth=16,\n",
       "             max_features=None, max_leaf_nodes=None,\n",
       "             min_impurity_decrease=0.0, min_impurity_split=None,\n",
       "             min_samples_leaf=1, min_samples_split=2,\n",
       "             min_weight_fraction_leaf=0.0, n_estimators=400,\n",
       "             presort='auto', random_state=None, subsample=1.0, verbose=0,\n",
       "             warm_start=False)"
      ]
     },
     "execution_count": 16,
     "metadata": {},
     "output_type": "execute_result"
    }
   ],
   "source": [
    "from sklearn.ensemble import GradientBoostingRegressor\n",
    "\n",
    "regr = GradientBoostingRegressor(loss='lad',learning_rate=0.01,max_depth=16,n_estimators=400)\n",
    "regr.fit(x_train, y_train)"
   ]
  },
  {
   "cell_type": "code",
   "execution_count": 17,
   "metadata": {
    "_uuid": "09bc64c4cf678337e950b4198d9c434804d26bc1"
   },
   "outputs": [
    {
     "name": "stdout",
     "output_type": "stream",
     "text": [
      "corr=0.6002213446989808,score=0.35071723322251824\n"
     ]
    }
   ],
   "source": [
    "from sklearn.metrics import r2_score\n",
    "pred = regr.predict(x_test)\n",
    "corr =  np.corrcoef(x=pred,y=y_test)\n",
    "score = r2_score(y_test,pred)\n",
    "print(\"corr={},score={}\".format(corr[0,1],score))"
   ]
  },
  {
   "cell_type": "code",
   "execution_count": 18,
   "metadata": {
    "_uuid": "b0c8f9d57b4905531b95abf9e41bcd401cd041f2"
   },
   "outputs": [
    {
     "name": "stdout",
     "output_type": "stream",
     "text": [
      "(1338,)\n",
      "<class 'numpy.ndarray'>\n"
     ]
    }
   ],
   "source": [
    "print(pred.shape)\n",
    "print(type(pred))"
   ]
  },
  {
   "cell_type": "code",
   "execution_count": 19,
   "metadata": {
    "_uuid": "82326991befa130060218b3d7e38830a566a8b92"
   },
   "outputs": [
    {
     "data": {
      "text/plain": [
       "0"
      ]
     },
     "execution_count": 19,
     "metadata": {},
     "output_type": "execute_result"
    }
   ],
   "source": [
    "sum(pred <0)"
   ]
  },
  {
   "cell_type": "code",
   "execution_count": 20,
   "metadata": {
    "_uuid": "5493d181172a0696141243aa01259cf9f03e4270"
   },
   "outputs": [
    {
     "data": {
      "text/plain": [
       "GradientBoostingRegressor(alpha=0.9, criterion='friedman_mse', init=None,\n",
       "             learning_rate=0.01, loss='lad', max_depth=16,\n",
       "             max_features=None, max_leaf_nodes=None,\n",
       "             min_impurity_decrease=0.0, min_impurity_split=None,\n",
       "             min_samples_leaf=1, min_samples_split=2,\n",
       "             min_weight_fraction_leaf=0.0, n_estimators=400,\n",
       "             presort='auto', random_state=None, subsample=1.0, verbose=0,\n",
       "             warm_start=False)"
      ]
     },
     "execution_count": 20,
     "metadata": {},
     "output_type": "execute_result"
    }
   ],
   "source": [
    "regr.fit(x, y)"
   ]
  },
  {
   "cell_type": "code",
   "execution_count": 21,
   "metadata": {
    "_uuid": "58cbfe40a964cdcaf7f92cee31353af2c1ca69ba"
   },
   "outputs": [],
   "source": [
    "#test_sample = rscaler.fit_transform(test_df)"
   ]
  },
  {
   "cell_type": "code",
   "execution_count": 22,
   "metadata": {
    "_uuid": "7f0b55a3d4a23f8bc3e2e7497efa250af1c6509c"
   },
   "outputs": [
    {
     "data": {
      "text/plain": [
       "Index(['ID', '48df886f9', '0deb4b6a8', '34b15f335', 'a8cb14b00', '2f0771a37',\n",
       "       '30347e683', 'd08d1fbe3', '6ee66e115', '20aa07010',\n",
       "       ...\n",
       "       '3ecc09859', '9281abeea', '8675bec0b', '3a13ed79a', 'f677d4d13',\n",
       "       '71b203550', '137efaa80', 'fb36b89d9', '7e293fbaf', '9fc776466'],\n",
       "      dtype='object', length=4992)"
      ]
     },
     "execution_count": 22,
     "metadata": {},
     "output_type": "execute_result"
    }
   ],
   "source": [
    "test_df_full = pd.read_csv('../input/test.csv')\n",
    "test_df_full.columns"
   ]
  },
  {
   "cell_type": "code",
   "execution_count": 23,
   "metadata": {
    "_uuid": "8c83b910114e7d607e7f1e014eda56f9f0ea5212"
   },
   "outputs": [
    {
     "data": {
      "text/plain": [
       "Index(['48df886f9', '0deb4b6a8', '34b15f335', 'a8cb14b00', '2f0771a37',\n",
       "       '30347e683', 'd08d1fbe3', '6ee66e115', '20aa07010', 'dc5a8f1d8',\n",
       "       ...\n",
       "       '3ecc09859', '9281abeea', '8675bec0b', '3a13ed79a', 'f677d4d13',\n",
       "       '71b203550', '137efaa80', 'fb36b89d9', '7e293fbaf', '9fc776466'],\n",
       "      dtype='object', length=4991)"
      ]
     },
     "execution_count": 23,
     "metadata": {},
     "output_type": "execute_result"
    }
   ],
   "source": [
    "test_df = test_df_full.drop(['ID'],axis=1)\n",
    "test_df.columns"
   ]
  },
  {
   "cell_type": "code",
   "execution_count": 24,
   "metadata": {},
   "outputs": [],
   "source": [
    "test_df['_mean'] = np.log1p(test_df.replace(0, np.nan).mean(axis=1))\n",
    "test_df['log_median'] = np.log1p(test_df.replace(0, np.nan).median(axis=1))\n",
    "test_df['_sum'] = np.log1p(test_df.sum(axis=1))\n",
    "test_df['_std'] = test_df.std(axis=1)\n",
    "test_df['_kur'] = test_df.kurtosis(axis=1)"
   ]
  },
  {
   "cell_type": "code",
   "execution_count": 25,
   "metadata": {
    "_uuid": "ba55495cd73fc613be4ed4fc7aa5f137fa6e7b17"
   },
   "outputs": [
    {
     "name": "stdout",
     "output_type": "stream",
     "text": [
      "[ 4479175.58511439  2206625.29022893  3869659.68915223 ...\n",
      "  3962158.1218386   1514589.92414449 10697120.77682394]\n"
     ]
    }
   ],
   "source": [
    "result=regr.predict(test_df)\n",
    "print(result)"
   ]
  },
  {
   "cell_type": "code",
   "execution_count": 26,
   "metadata": {
    "_uuid": "23161c51fe0ac14b4fab36513e9a2961e307f4e6"
   },
   "outputs": [
    {
     "data": {
      "text/plain": [
       "0"
      ]
     },
     "execution_count": 26,
     "metadata": {},
     "output_type": "execute_result"
    }
   ],
   "source": [
    "sum(result<0)"
   ]
  },
  {
   "cell_type": "code",
   "execution_count": 27,
   "metadata": {
    "_uuid": "ff603db0ed84b24a28f43a6549b9197ead23445b"
   },
   "outputs": [],
   "source": [
    "result_df = pd.DataFrame()\n",
    "result_df['ID']= test_df_full['ID']\n",
    "result_df['target']= result\n",
    "outfiles='valueprediction.csv'\n",
    "result_df.to_csv(path_or_buf=outfiles,index=False)"
   ]
  },
  {
   "cell_type": "code",
   "execution_count": null,
   "metadata": {
    "_uuid": "feff62ef92f5871fb6ee00d0e38eb3dbd31ed24b"
   },
   "outputs": [],
   "source": []
  }
 ],
 "metadata": {
  "kernelspec": {
   "display_name": "Python 3",
   "language": "python",
   "name": "python3"
  },
  "language_info": {
   "codemirror_mode": {
    "name": "ipython",
    "version": 3
   },
   "file_extension": ".py",
   "mimetype": "text/x-python",
   "name": "python",
   "nbconvert_exporter": "python",
   "pygments_lexer": "ipython3",
   "version": "3.6.6"
  }
 },
 "nbformat": 4,
 "nbformat_minor": 1
}
